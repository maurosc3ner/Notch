{
 "cells": [
  {
   "cell_type": "markdown",
   "metadata": {},
   "source": [
    "# Notch\n",
    "\n",
    "Notch: Un algoritmo que permite la implementación de un filtro tipo notch. Creado *principalmente* para filtrar datos de EEG, de un arhivo .edf.\n",
    "\n",
    "## Parámetros\n",
    "\n",
    "__f0__ : float, opcional\n",
    "    Frecuencia que se desea filtrar. Por defecto, f0=60 Hz.\n",
    "    \n",
    "__Q__ : int, opcional\n",
    "    Factor de calidad del filtro. Por defecto, Q=50.\n",
    "    \n",
    "## Atributos\n",
    "\n",
    "__f0__ : Frecuencia que elimina el filtro.\n",
    "\n",
    "__Q__ : Factor de calidad del filtro.\n",
    "\n",
    "## Métodos\n",
    "\n",
    "1)  __read_edf__(*nameEdf*): Se encarga decargar un archivo .edf.\n",
    "\n",
    "#### Parámetros\n",
    "   __nameEdf__ : De tipo Str. Dirección (Opcional) y nombre del archivo .edf que se desea cargar. \n",
    "#### Salidas\n",
    "   __in_signal__ : Definida como un numpy.array. Matriz de Canales X Tiempo extraida del archivo .edf. \n",
    "   \n",
    "   __fs__ : De tipo float. Frecuencia de muestro de 'in_signal'.\n",
    "   \n",
    "   __headers__ : Un vector que contiene datos de tipo dict. Datos de la adqusición de *in_signal* (Frecuencia de muestreo, prefiltrado, transductor utilizado, etc...)\n",
    "   \n",
    "Un ejemplo de cómo utilizar este método es presentado a continuación."
   ]
  },
  {
   "cell_type": "code",
   "execution_count": null,
   "metadata": {},
   "outputs": [],
   "source": [
    "from notch import Notch\n",
    "\n",
    "notch1 = Notch()\n",
    "signal,fs,headers = notch1.read_edf('sujeto_base.edf')\n",
    "\n"
   ]
  },
  {
   "cell_type": "markdown",
   "metadata": {},
   "source": [
    "2) __filt__(*in_signal,fs*): Se encarga de filtrar una señal.\n",
    "\n",
    "#### Parámetros\n",
    "   __in_signal__ : Definida como un numpy.array. Matriz de Canales X Tiempo.\n",
    "   __fs__ : Frecuencia con la que 'in_signal' fue muestreada\n",
    "#### Salidas\n",
    "   __out_signal__ : Definida como un numpy.array. Matriz de Canales X Tiempo, que contiene los datos filtrados de *in_signal*\n",
    "   \n",
    "Un ejemplo de cómo utilizar este método es presentado a continuación."
   ]
  },
  {
   "cell_type": "code",
   "execution_count": null,
   "metadata": {},
   "outputs": [],
   "source": [
    "import matplotlib.pyplot as plt\n",
    "from notch import Notch\n",
    "import numpy as np\n",
    "from numpy.fft import fft,fftfreq\n",
    "from scipy import signal\n",
    "\n",
    "fs = 360 # Frecuencia de muestreo.\n",
    "ts = 1/fs # Periodo de muestreo.\n",
    "n = 100 # Número de muestras.\n",
    "t = np.linspace(0,(n-1)*ts,n) # Vector de tiempo\n",
    "x= np.zeros((1,n)) # Matriz de 1 X n\n",
    "x[0] = 1+np.sin(2*np.pi*60*t)+3*np.sin(2*np.pi*120*t) \n",
    "notch1 = Notch()\n",
    "x,num,den = notch1.filt(x,fs)\n",
    "\n",
    "# Generación de gráficas\n",
    "\n",
    "fig,subplt=plt.subplots(3,1,figsize=(8,5))\n",
    "subplt[0].plot(t,x[0])\n",
    "subplt[0].title.set_text('Señal original')\n",
    "subplt[0].grid()\n",
    "\n",
    "subplt[1].plot(t,y[0])\n",
    "subplt[1].title.set_text('Señal filtrada')\n",
    "subplt[1].grid()\n",
    "\n",
    "# Respuesta del filtro\n",
    "w,h=signal.freqz(num,den)  \n",
    "freq=w*fs/(2*np.pi)\n",
    "subplt[2].plot(freq,abs(h))\n",
    "subplt[2].title.set_text('Respuesta del filtro')\n",
    "plt.grid()\n",
    "plt.show()"
   ]
  },
  {
   "attachments": {},
   "cell_type": "markdown",
   "metadata": {},
   "source": [
    "**Gráficas**\n",
    "![Grafica](Desktop\\filt.png)\n"
   ]
  },
  {
   "cell_type": "markdown",
   "metadata": {},
   "source": [
    "3) __write_edf__(*in_signal,headers,nameEdf*): Se encarga de crear un nuevo archivo archivo .edf.\n",
    "\n",
    "#### Parámetros\n",
    "   __in_signal__ : Definida como numpy.array. Matriz de Canales X Tiempo que se desea guardar en el archivo .edf.\n",
    "   __headers__ : Un vector que contiene datos de tipo dict. Datos de la adqusición de *in_signal* (Frecuencia de muestreo, prefiltrado, transductor utilizado, etc...).\n",
    "   __nameEdf__ : De tipo str. Dirección (Opcional) y nombre del archivo .edf a generar.\n",
    "\n",
    "Un ejemplo de cómo utilizar este método es presentado a continuación:"
   ]
  },
  {
   "cell_type": "code",
   "execution_count": null,
   "metadata": {},
   "outputs": [],
   "source": [
    "from notch import Notch\n",
    "\n",
    "notch1 = Notch()\n",
    "signal,fs,headers = notch1.read_edf('sujeto_base.edf')\n",
    "notch1.write_edf(signal,headers,'prueba.edf') # Crea un archivo 'prueba.edf' igual a 'sujeto_base.edf' \n"
   ]
  },
  {
   "cell_type": "markdown",
   "metadata": {},
   "source": [
    "4) argparse() : Permite al usuario ingresar valores DESDE LA CONSOLA.\n",
    "\n",
    "#### Parámetros\n",
    "   __-i__ : De tipo str. Debe contener el nombre del archivo .edf que se desea cargar.\n",
    "   __-fo__ : De tipo float, opcional. Debe contener la frecuencia que se desea eliminar de la señal. Por defecto es 60 Hz.\n",
    "   __-Q__ : De tipo int, opcional. Debe contener el factor de calidad del filtro. Por defecto es de 50. \n",
    "   __-e__: De tipo str. Debe contener el nombre con el que se quiere guardar el nuevo archivo .edf.\n",
    "#### Salidas\n",
    "   __arc__ : De tipo str. Nombre del archivo .edf que se desea cargar\n",
    "   __output__ : De tipo str. Nombre con que se desea guardar el nuevo archivo .edf.\n",
    "   \n",
    "Un ejemplo de como utilizar este método es presentado a continuación.\n",
    "\n",
    "NOTA: Para ejecutar argparse, se necesita abrir la consola desde la dirección en donde está el código."
   ]
  },
  {
   "cell_type": "code",
   "execution_count": null,
   "metadata": {},
   "outputs": [],
   "source": [
    "from notch import Notch\n",
    "notch1 = Notch()\n",
    "arc,output = notch1.argparse()\n",
    "signal , fs ,headers= notch1.read_edf(arc)\n",
    "filtered_signal,num,den = notch1.filt(signal,fs)\n",
    "notch1.write_edf(filtered_signal,headers,output)"
   ]
  },
  {
   "cell_type": "markdown",
   "metadata": {},
   "source": [
    "**Desde la consola**\n",
    "![Consola](Desktop\\Consola.png)"
   ]
  }
 ],
 "metadata": {
  "kernelspec": {
   "display_name": "Python 3",
   "language": "python",
   "name": "python3"
  },
  "language_info": {
   "codemirror_mode": {
    "name": "ipython",
    "version": 3
   },
   "file_extension": ".py",
   "mimetype": "text/x-python",
   "name": "python",
   "nbconvert_exporter": "python",
   "pygments_lexer": "ipython3",
   "version": "3.6.5"
  }
 },
 "nbformat": 4,
 "nbformat_minor": 2
}
