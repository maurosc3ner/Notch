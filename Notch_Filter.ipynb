{
 "cells": [
  {
   "cell_type": "markdown",
   "metadata": {},
   "source": [
    "# Filtro Notch\n",
    "\n",
    "Script para el uso de un filtro tipo notch de un EEG (archivo '.edf')\n",
    "\n",
    "## Resumen\n",
    "En este script se realiza un proceso de segmentación y filtrado (Con un filtro tipo Notch), para posteriormente crear un archivo '.edf' con los datos obtenidos tras realizar dichos procesos, utilizando la librería \"pyedflib\"\n",
    "\n",
    "## Entradas\n",
    "Utilizando argparse, se definen las siguientes entradas de usuario.\n",
    "\n",
    "1) -i o --archivo: Nombre del archivo .edf que se desea cargar, es de tipo str\n",
    "\n",
    "2) -is o --in_sec: Es el segundo en el que se desea empezar a segmentar el EEG, es de tipo float, ejemplo: -is 1000\n",
    "\n",
    "3) -fs o --fi_sec: Es el segundo hasta el cual se desea segmentar el EEG, debe ser mayor a in_sec, es de tipo float, ejemplo:-fs 1001\n",
    "\n",
    "4) -fo o --f0: Frecuencia que se desea filtrar con el filtro notch, es de tipo float, ejemplo: -fo 60. Por defecto fo = 60 Hz.\n",
    "\n",
    "5) -Q 0 --Q: Factor de calidad del filtro, es de tipo int, ejemplo: -Q 50. Por defecto Q = 50 Hz\n",
    "\n",
    "6) -e o --edf: Nombre del archivo y dirección donde se desea guardar el nuevo archivo .edf, es de tipo str, ejemplo: -e desktop/prueba.edf\n",
    "\n",
    "\n",
    "## Salidas\n",
    "1) edf : Archivo .edf con el segmento seleccionado filtrado.\n",
    "\n",
    "## Código\n",
    "En el script principal (notch.py), se importan las librerías necesarias para implementar este código, definiendo una clase (Notch_filter) con sus respectivos métodos.\n",
    "El código se implementa creando un objeto y haciendo uso de sus métodos."
   ]
  },
  {
   "cell_type": "code",
   "execution_count": null,
   "metadata": {},
   "outputs": [],
   "source": [
    "from notch import Notch_filter\n",
    "notch1 = Notch_filter()\n",
    "arc,ini_sec,final_sec,output = notch1.argparse()\n",
    "signal , fs ,headers= notch1.read_edf(arc)\n",
    "segment = notch1.segmentation(signal,fs,ini_sec,final_sec)\n",
    "filtered_segment = notch1.filt(segment,fs)\n",
    "notch1.write_edf(filtered_segment,headers,output)\n",
    "\n",
    "#python notch.py -i sujeto_base.edf -is 1000 -fs 1001.5 -e prueba.edf"
   ]
  },
  {
   "cell_type": "markdown",
   "metadata": {},
   "source": [
    "## Librerias utilizadas\n",
    "[1] Pyedflib http://pyedflib.readthedocs.io/en/latest/\n",
    "\n",
    "[2] Numpy http://www.numpy.org/\n",
    "\n",
    "[3] Scipy http://www.scipy.org\n",
    "\n",
    "[4] Argparse  https://docs.python.org/3/library/argparse.html"
   ]
  }
 ],
 "metadata": {
  "kernelspec": {
   "display_name": "Python 3",
   "language": "python",
   "name": "python3"
  },
  "language_info": {
   "codemirror_mode": {
    "name": "ipython",
    "version": 3
   },
   "file_extension": ".py",
   "mimetype": "text/x-python",
   "name": "python",
   "nbconvert_exporter": "python",
   "pygments_lexer": "ipython3",
   "version": "3.6.5"
  }
 },
 "nbformat": 4,
 "nbformat_minor": 2
}
